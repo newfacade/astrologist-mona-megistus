{
 "cells": [
  {
   "cell_type": "code",
   "execution_count": 1,
   "metadata": {},
   "outputs": [],
   "source": [
    "%matplotlib inline\n",
    "import os\n",
    "import re\n",
    "import collections\n",
    "import random\n",
    "import math\n",
    "\n",
    "import matplotlib.pyplot as plt\n",
    "import torch\n",
    "from torch import nn\n",
    "from torch.nn import functional as F"
   ]
  },
  {
   "cell_type": "markdown",
   "metadata": {},
   "source": [
    "# 1.text preprocessing"
   ]
  },
  {
   "cell_type": "markdown",
   "metadata": {},
   "source": [
    "typical preprocess steps:\n",
    "\n",
    "    1.Load text as strings into memory, with some re.sub.\n",
    "\n",
    "    2.Split strings into tokens (e.g., words and characters).\n",
    "\n",
    "    3.Build a table of vocabulary to map the split tokens to numerical indices.\n",
    "\n",
    "    4.Convert text into sequences of numerical indices so they can be manipulated by models easily.\n",
    "    \n",
    "    5.Form data iter"
   ]
  },
  {
   "cell_type": "markdown",
   "metadata": {},
   "source": [
    "## 1.1 load text"
   ]
  },
  {
   "cell_type": "code",
   "execution_count": 2,
   "metadata": {},
   "outputs": [],
   "source": [
    "def read_novels():\n",
    "    \"\"\"\n",
    "    read lines of 10 famous novels.\n",
    "    basic re.\n",
    "    \"\"\"\n",
    "    lines = []\n",
    "    folder_path = \"../data/novels\"\n",
    "    for file in os.listdir(folder_path):\n",
    "        if not file.startswith(\".\"):\n",
    "            lines += open(os.path.join(folder_path, file), \"r\").readlines()\n",
    "    lines = [re.sub('[^A-Za-z]', ' ', line).strip().lower() for line in lines]\n",
    "    return [line for line in lines if line]"
   ]
  },
  {
   "cell_type": "code",
   "execution_count": 3,
   "metadata": {},
   "outputs": [],
   "source": [
    "lines = read_novels()"
   ]
  },
  {
   "cell_type": "markdown",
   "metadata": {},
   "source": [
    "## 1.2 tokenize"
   ]
  },
  {
   "cell_type": "code",
   "execution_count": 4,
   "metadata": {},
   "outputs": [],
   "source": [
    "def tokenize(lines, token='char'):\n",
    "    \"\"\"\n",
    "    Split text lines into word or character tokens.\n",
    "    we focus on char now\n",
    "    \"\"\"\n",
    "    if token == 'word':\n",
    "        return [line.split() for line in lines]\n",
    "    elif token == 'char':\n",
    "        return [list(line) for line in lines]\n",
    "    else:\n",
    "        print('ERROR: unknown token type: ' + token)"
   ]
  },
  {
   "cell_type": "code",
   "execution_count": 5,
   "metadata": {},
   "outputs": [],
   "source": [
    "tokens = tokenize(lines)"
   ]
  },
  {
   "cell_type": "markdown",
   "metadata": {},
   "source": [
    "## 1.3 bulid vocabulary"
   ]
  },
  {
   "cell_type": "markdown",
   "metadata": {},
   "source": [
    "The string type of the token is inconvenient to be used by models, which take numerical inputs. \n",
    "\n",
    "Now let us build a dictionary, often called vocabulary as well, to map string tokens into numerical indices starting from 0"
   ]
  },
  {
   "cell_type": "code",
   "execution_count": 6,
   "metadata": {},
   "outputs": [],
   "source": [
    "def count_corpus(tokens):\n",
    "    \"\"\"\n",
    "    Count token frequencies.\n",
    "    \"\"\"\n",
    "    return collections.Counter([token for line in tokens for token in line])"
   ]
  },
  {
   "cell_type": "code",
   "execution_count": 7,
   "metadata": {},
   "outputs": [],
   "source": [
    "class Vocab:\n",
    "    \"\"\"\n",
    "    Vocabulary for text.\n",
    "    \"\"\"\n",
    "    def __init__(self, tokens=None, min_freq=0, reserved_tokens=None):\n",
    "        if tokens is None:\n",
    "            tokens = []\n",
    "        if reserved_tokens is None:\n",
    "            reserved_tokens = []\n",
    "        # Sort according to frequencies\n",
    "        counter = count_corpus(tokens)\n",
    "        self.token_freqs = sorted(counter.items(), key=lambda x: x[1],\n",
    "                                  reverse=True)\n",
    "        # The index for the unknown token is 0\n",
    "        self.unk, uniq_tokens = 0, ['<unk>'] + reserved_tokens\n",
    "        uniq_tokens += [token for token, freq in self.token_freqs\n",
    "                        if freq >= min_freq and token not in uniq_tokens]\n",
    "        self.idx_to_token, self.token_to_idx = [], dict()\n",
    "        for token in uniq_tokens:\n",
    "            self.idx_to_token.append(token)\n",
    "            self.token_to_idx[token] = len(self.idx_to_token) - 1\n",
    "\n",
    "    def __len__(self):\n",
    "        return len(self.idx_to_token)\n",
    "\n",
    "    def __getitem__(self, tokens):\n",
    "        \"\"\"\n",
    "        tokens may be list, tuple, string\n",
    "        \"\"\"\n",
    "        if not isinstance(tokens, (list, tuple)):\n",
    "            return self.token_to_idx.get(tokens, self.unk)\n",
    "        return [self.__getitem__(token) for token in tokens]\n",
    "\n",
    "    def to_tokens(self, indices):\n",
    "        \"\"\"\n",
    "        indexs may be list, tuple, int \n",
    "        \"\"\"\n",
    "        if not isinstance(indices, (list, tuple)):\n",
    "            return self.idx_to_token[indices]\n",
    "        return [self.idx_to_token[index] for index in indices]"
   ]
  },
  {
   "cell_type": "code",
   "execution_count": 8,
   "metadata": {},
   "outputs": [],
   "source": [
    "vocab = Vocab(tokens)"
   ]
  },
  {
   "cell_type": "markdown",
   "metadata": {},
   "source": [
    "## 1.4 putting all things together"
   ]
  },
  {
   "cell_type": "code",
   "execution_count": 9,
   "metadata": {},
   "outputs": [],
   "source": [
    "def load_corpus_novels():\n",
    "    \"\"\"\n",
    "    Return token indices and the vocabulary of the novels dataset.\n",
    "    \"\"\"\n",
    "    lines = read_novels()\n",
    "    tokens = tokenize(lines)\n",
    "    vocab = Vocab(tokens)\n",
    "    corpus = [vocab[token] for line in tokens for token in line if vocab[token] != 0]\n",
    "    return corpus, vocab"
   ]
  },
  {
   "cell_type": "code",
   "execution_count": 10,
   "metadata": {},
   "outputs": [],
   "source": [
    "corpus, vocab = load_corpus_novels()"
   ]
  },
  {
   "cell_type": "code",
   "execution_count": 11,
   "metadata": {},
   "outputs": [
    {
     "data": {
      "text/plain": [
       "(410043, 28)"
      ]
     },
     "execution_count": 11,
     "metadata": {},
     "output_type": "execute_result"
    }
   ],
   "source": [
    "len(corpus), len(vocab)"
   ]
  },
  {
   "cell_type": "markdown",
   "metadata": {},
   "source": [
    "## 1.5 form data iter"
   ]
  },
  {
   "cell_type": "code",
   "execution_count": 12,
   "metadata": {},
   "outputs": [],
   "source": [
    "def seq_data_iter(corpus, batch_size, num_steps):\n",
    "    \"\"\"\n",
    "    Generate a minibatch\n",
    "    result shape: (batch_size, num_steps)\n",
    "    \"\"\"\n",
    "    # Start with a random offset to partition a sequence\n",
    "    offset = random.randint(0, num_steps)\n",
    "    num_tokens = ((len(corpus) - offset - 1) // batch_size) * batch_size\n",
    "    Xs = torch.tensor(corpus[offset: offset + num_tokens]).reshape(batch_size, -1)\n",
    "    Ys = torch.tensor(corpus[offset + 1: offset + 1 + num_tokens]).reshape(batch_size, -1)\n",
    "    \n",
    "    num_batches = Xs.shape[1] // num_steps\n",
    "    for i in range(0, num_steps * num_batches, num_steps):\n",
    "        X = Xs[:, i: i + num_steps]\n",
    "        Y = Ys[:, i: i + num_steps]\n",
    "        yield X, Y"
   ]
  },
  {
   "cell_type": "code",
   "execution_count": 13,
   "metadata": {},
   "outputs": [],
   "source": [
    "class SeqDataLoader:\n",
    "    \"\"\"\n",
    "    An iterator to load sequence data.\n",
    "    \"\"\"\n",
    "    def __init__(self, batch_size, num_steps):\n",
    "        self.corpus, self.vocab = load_corpus_novels()\n",
    "        self.batch_size, self.num_steps = batch_size, num_steps\n",
    "        self.data_iter_fn = seq_data_iter\n",
    "\n",
    "    def __iter__(self):\n",
    "        return self.data_iter_fn(self.corpus, self.batch_size, self.num_steps)"
   ]
  },
  {
   "cell_type": "code",
   "execution_count": 14,
   "metadata": {},
   "outputs": [],
   "source": [
    "def load_data_novels(batch_size, num_steps):\n",
    "    \"\"\"\n",
    "    Return the iterator and the vocabulary of the novel dataset.\n",
    "    \"\"\"\n",
    "    data_iter = SeqDataLoader(batch_size, num_steps)\n",
    "    return data_iter, data_iter.vocab"
   ]
  },
  {
   "cell_type": "code",
   "execution_count": 15,
   "metadata": {},
   "outputs": [],
   "source": [
    "batch_size, num_steps = 32, 40\n",
    "train_iter, vocab = load_data_novels(batch_size, num_steps)"
   ]
  },
  {
   "cell_type": "markdown",
   "metadata": {},
   "source": [
    "# 2.basic language model\n",
    "\n",
    "assume that the tokens in a text sequence of length  $T$  are in turn  $x_{1},x_{2},...,x_{T}$\n",
    "\n",
    "the goal of language model is to estimate the joint-probability of the sequence:\n",
    "\n",
    "$$P(x_{1},p_{2},...,x_{T})$$\n",
    "\n",
    "an ideal language model would be able to generate natural text just on its own, simply by drawing one token at a time:\n",
    "\n",
    "$$x_{t} \\sim P(x_{t}|x_{1},...,x_{t-1})$$"
   ]
  },
  {
   "cell_type": "markdown",
   "metadata": {},
   "source": [
    "## 2.1 n-gram\n",
    "\n",
    "how to compute the joint-probabilty? let us start by applying basic probability rules:\n",
    "\n",
    "$$P(x_{1},...,x_{T}) = \\prod_{t=1}^{T}P(x_{t}|x_{1},...,x_{t-1})$$\n",
    "\n",
    "probability could be estimated by frequency, for example:\n",
    "\n",
    "$$\\hat{P}(learning|deep) = \\frac{n(deep, learning)}{n(deep)}$$\n",
    "\n",
    "addtionally, we commonly perform laplace smoothing:\n",
    "\n",
    "$$\\hat{P(x)} = \\frac{n(x) + \\epsilon_{1}/m}{n + \\epsilon_{1}}$$\n",
    "\n",
    "$$\\hat{P(x'|x)}=\\frac{n(x,x') + \\epsilon_{2}p(x')}{n(x) + \\epsilon_{2}}$$\n",
    "\n",
    "$$\\hat{P(x''|x,x')}=\\frac{n(x, x', x'') + \\epsilon_{3}p(x'')}{n(x, x') + \\epsilon_{3}}$$\n",
    "\n",
    "with markov assumption, we get n-gram:\n",
    "\n",
    "$$P(x_{t}|x_{1},...,x_{t-1}) = P(x_{t}|x_{t-n+1},...,x_{t-1})$$\n",
    "\n",
    "so for unigram, bigram, trigram, we each have:\n",
    "\n",
    "$$P(x_{1}, x_{2}, x_{3}, x_{4}) = P(x_{1})P(x_{2})P(x_{3})p(x_{4})$$\n",
    "\n",
    "$$P(x_{1}, x_{2}, x_{3}, x_{4}) = P(x_{1})P(x_{2}|x_{1})P(x_{3}|x_{2})p(x_{4}|x_{3})$$\n",
    "\n",
    "$$P(x_{1}, x_{2}, x_{3}, x_{4}) = P(x_{1})P(x_{2}|x_{1})P(x_{3}|x_{1},x_{2})p(x_{4}|x_{2},x_{3})$$"
   ]
  },
  {
   "cell_type": "markdown",
   "metadata": {},
   "source": [
    "## 2.2 perplexity\n",
    "\n",
    "how to measure the language model quality?\n",
    "\n",
    "we can ask about predicting the next token given the current set of tokens. A better language model should allow us to predict the next token more accurately\n",
    "\n",
    "thus can measure it by the cross-entropy loss averaged over all the  $n$  tokens of a sequence:\n",
    "\n",
    "$$\\frac{1}{n}\\sum_{t=1}^{n}-log\\ P(x_{t}|x_{t-1},...,x_{1})$$\n",
    "\n",
    "where  𝑃  is given by a language model and  $x_{t}$  is the actual token observed at time step  $t$  from the sequence. \n",
    "\n",
    "This makes the performance on documents of different lengths comparable.\n",
    "\n",
    "For historical reasons, we use exponentials called perplexity:\n",
    "\n",
    "$$exp\\left (\\frac{1}{n}\\sum_{t=1}^{n}-log\\ P(x_{t}|x_{t-1},...,x_{1})\\right )$$"
   ]
  },
  {
   "cell_type": "markdown",
   "metadata": {},
   "source": [
    "# 3. rnn model\n",
    "\n",
    "in n-gram models, the conditional probability of a word $x_{t}$ only depends on the $n - 1$ previous words.\n",
    "\n",
    "if we want to incorporate the possible effect of words earlier than time step $t - (n - 1)$, we need to increase $n$\n",
    ". but the number of model parameters $\\left | V \\right | ^{n}$ increase exponentially\n",
    "\n",
    "Hence, rather than modeling  $P(x_{t}|x_{t-n+1},...,x_{t-1})$,  it is preferable to use a latent variable model:\n",
    "\n",
    "$$P(x_{t}|x_{1},...,x_{t-1}) \\approx P(x_{t}|h_{t-1})$$\n",
    "\n",
    "normal mlp with one hidden layer:\n",
    "\n",
    "$$H = \\phi(XW_{xh} + b_{h})$$\n",
    "\n",
    "$$O = HW_{hq} + b_{q}$$\n",
    "\n",
    "for sequence problem, Assume that we have a minibatch of inputs  $X_{t}\\in \\mathbb{R}^{n\\times{d}}$  at time step $t$, then use previous latent variable:\n",
    "\n",
    "$$H_{t} = \\phi(X_{t}W_{xh} + H_{t-1}W_{hh} + b_{h})$$\n",
    "\n",
    "$$O_{t} = H_{t}W_{hq} + b_{q}$$\n",
    "\n",
    "often $\\phi = tanh$ as default."
   ]
  },
  {
   "cell_type": "markdown",
   "metadata": {},
   "source": [
    "RNN-based Character-Level Language Models:\n",
    "\n",
    "![jupyter](./rnn-train.svg)"
   ]
  },
  {
   "cell_type": "markdown",
   "metadata": {},
   "source": [
    "## 3.1 build model"
   ]
  },
  {
   "cell_type": "code",
   "execution_count": 16,
   "metadata": {},
   "outputs": [],
   "source": [
    "num_hiddens = 256\n",
    "rnn_layer = nn.RNN(len(vocab), num_hiddens)"
   ]
  },
  {
   "cell_type": "markdown",
   "metadata": {},
   "source": [
    "nn.RNN descrption:\n",
    "\n",
    "For each element in the input sequence, each layer computes the following function:\n",
    "\n",
    "$$h_t = \\tanh(W_{ih} x_t + b_{ih} + W_{hh} h_{(t-1)} + b_{hh})$$\n",
    "\n",
    "here $h_t$ is the hidden state at time $t$.<br>\n",
    "$x_t$ is the input at time $t$.<br>\n",
    "$h_{(t-1)}$ is the hidden state of the previous layer at time $t-1$ or the initial hidden state at time $0$."
   ]
  },
  {
   "cell_type": "code",
   "execution_count": 17,
   "metadata": {},
   "outputs": [],
   "source": [
    "class RNNModel(nn.Module):\n",
    "    \"\"\"\n",
    "    The RNN model.\n",
    "    \"\"\"\n",
    "    def __init__(self, rnn_layer, vocab_size, **kwargs):\n",
    "        super(RNNModel, self).__init__(**kwargs)\n",
    "        self.rnn = rnn_layer\n",
    "        self.vocab_size = vocab_size\n",
    "        self.num_hiddens = self.rnn.hidden_size\n",
    "        if not self.rnn.bidirectional:\n",
    "            self.num_directions = 1\n",
    "            self.linear = nn.Linear(self.num_hiddens, self.vocab_size)\n",
    "        else:\n",
    "            self.num_directions = 2\n",
    "            self.linear = nn.Linear(self.num_hiddens * 2, self.vocab_size)\n",
    "\n",
    "    def forward(self, inputs, state):\n",
    "        # (batch_size, num_steps) to (num_steps, batch_size, vocab_size)\n",
    "        X = F.one_hot(inputs.T.long(), self.vocab_size).type(torch.float32)\n",
    "        Y, state = self.rnn(X, state)\n",
    "        # The fully connected layer will first change the shape of `Y` to\n",
    "        # (`num_steps` * `batch_size`, `num_hiddens`). Its output shape is\n",
    "        # (`num_steps` * `batch_size`, `vocab_size`).\n",
    "        output = self.linear(Y.reshape((-1, Y.shape[-1])))\n",
    "        return output, state\n",
    "\n",
    "    def begin_state(self, batch_size=1):\n",
    "        if not isinstance(self.rnn, nn.LSTM):\n",
    "            return torch.zeros((self.num_directions * self.rnn.num_layers, batch_size, self.num_hiddens))\n",
    "        else:\n",
    "            # lstm has two states\n",
    "            return (torch.zeros((self.num_directions * self.rnn.num_layers, batch_size, self.num_hiddens)),\n",
    "                   torch.zeros((self.num_directions * self.rnn.num_layers, batch_size, self.num_hiddens)))"
   ]
  },
  {
   "cell_type": "code",
   "execution_count": 18,
   "metadata": {},
   "outputs": [],
   "source": [
    "net = RNNModel(rnn_layer, vocab_size=len(vocab))"
   ]
  },
  {
   "cell_type": "markdown",
   "metadata": {},
   "source": [
    "## 3.2 predict & train functions\n",
    "\n",
    "predict function"
   ]
  },
  {
   "cell_type": "code",
   "execution_count": 19,
   "metadata": {},
   "outputs": [],
   "source": [
    "def predict_ch8(prefix, num_preds, net, vocab):\n",
    "    \"\"\"\n",
    "    Generate new characters following the prefix.\n",
    "    \"\"\"\n",
    "    state = net.begin_state(batch_size=1) # for single predict, use batch_size=1, net need to implement\n",
    "    outputs = [vocab[prefix[0]]]\n",
    "    get_input = lambda: torch.reshape(torch.tensor([outputs[-1]]), (1, 1)) # batch_size, num_steps = 1, 1\n",
    "    # warm-up period\n",
    "    for y in prefix[1:]:\n",
    "        _, state = net(get_input(), state) # call of net\n",
    "        outputs.append(vocab[y])\n",
    "    # predict num_preds steps\n",
    "    for _ in range(num_preds):\n",
    "        y, state = net(get_input(), state)\n",
    "        # y shape: (1*1, vocab_size)\n",
    "        outputs.append(int(y.argmax(dim=1))) # output max-probability\n",
    "    return ''.join([vocab.idx_to_token[i] for i in outputs])"
   ]
  },
  {
   "cell_type": "code",
   "execution_count": 20,
   "metadata": {},
   "outputs": [
    {
     "data": {
      "text/plain": [
       "'time traveller cccicccicc'"
      ]
     },
     "execution_count": 20,
     "metadata": {},
     "output_type": "execute_result"
    }
   ],
   "source": [
    "predict_ch8('time traveller ', 10, net, vocab)"
   ]
  },
  {
   "cell_type": "markdown",
   "metadata": {},
   "source": [
    "train epoch function"
   ]
  },
  {
   "cell_type": "code",
   "execution_count": 21,
   "metadata": {},
   "outputs": [],
   "source": [
    "def train_epoch_ch8(net, train_iter, loss, updater):\n",
    "    \"\"\"\n",
    "    Train a net within one epoch\n",
    "    \"\"\"\n",
    "    state = None\n",
    "    metric = [0.0, 0.0] # Sum of training loss, no. of tokens\n",
    "    for X, Y in train_iter: # shape: (batch_size, num_steps)\n",
    "        if state is None:\n",
    "            # Initialize state when it is the first iteration\n",
    "            state = net.begin_state(batch_size=X.shape[0])\n",
    "        else:\n",
    "            if isinstance(state, tuple): # lstm has two states\n",
    "                for s in state:\n",
    "                    s.detach_()\n",
    "            else:\n",
    "                state.detach_()\n",
    "        y = Y.T.reshape(-1) # shape: batch_size * num_steps\n",
    "        y_hat, state = net(X, state) # y_hat shape: (num_steps * batch_size, vocab_size)\n",
    "        l = loss(y_hat, y.long()).mean()\n",
    "        if isinstance(updater, torch.optim.Optimizer):\n",
    "            updater.zero_grad()\n",
    "            l.backward()\n",
    "            updater.step()\n",
    "        else:\n",
    "            l.backward()\n",
    "            grad_clipping(net, 1)\n",
    "            # Since the mean function has been invoked\n",
    "            updater(batch_size=1)\n",
    "        metric[0] += float(l * len(y))\n",
    "        metric[1] += len(y)\n",
    "        # print(metric)\n",
    "    print(metric)\n",
    "    return metric[0] / metric[1] # perplexity"
   ]
  },
  {
   "cell_type": "markdown",
   "metadata": {},
   "source": [
    "train function"
   ]
  },
  {
   "cell_type": "code",
   "execution_count": 22,
   "metadata": {},
   "outputs": [],
   "source": [
    "def train_ch8(net, train_iter, vocab, lr, num_epochs):\n",
    "    \"\"\"\n",
    "    Train a model\n",
    "    \"\"\"\n",
    "    loss = nn.CrossEntropyLoss()\n",
    "    # Initialize\n",
    "    if isinstance(net, nn.Module):\n",
    "        updater = torch.optim.SGD(net.parameters(), lr)\n",
    "    else:\n",
    "        updater = lambda batch_size: sgd(net.params, lr, batch_size)\n",
    "    predict = lambda prefix: predict_ch8(prefix, 30, net, vocab)\n",
    "    # Train and predict\n",
    "    for epoch in range(num_epochs):\n",
    "        ppl = train_epoch_ch8(net, train_iter, loss, updater)\n",
    "        if (epoch + 1) % 10 == 0:\n",
    "            print(f\"epoch: {epoch + 1}, log ppl: {ppl}, predict: {predict('time traveller')}\")\n",
    "    print(f'log perplexity {ppl:.1f}')\n",
    "    print(predict('time traveller'))\n",
    "    print(predict('traveller'))"
   ]
  },
  {
   "cell_type": "code",
   "execution_count": 23,
   "metadata": {},
   "outputs": [
    {
     "name": "stdout",
     "output_type": "stream",
     "text": [
      "[1134688.7014160156, 409600.0]\n",
      "[1053422.9528808594, 409600.0]\n",
      "[998106.9992675781, 409600.0]\n",
      "[968259.9526367188, 409600.0]\n",
      "[949861.7319335938, 409600.0]\n",
      "[936676.0495605469, 409600.0]\n",
      "[926322.6127929688, 409600.0]\n",
      "[917372.7902832031, 409600.0]\n",
      "[908847.6594238281, 409600.0]\n",
      "[900407.0422363281, 409600.0]\n",
      "epoch: 10, log ppl: 2.1982593804597856, predict: time traveller  and the  and the  and the  a\n",
      "[891629.5231933594, 409600.0]\n",
      "[882916.85546875, 409600.0]\n",
      "[874445.2873535156, 409600.0]\n",
      "[866358.7131347656, 409600.0]\n",
      "[859273.8146972656, 409600.0]\n",
      "[851806.4616699219, 409600.0]\n",
      "[845269.6843261719, 409600.0]\n",
      "[839258.4560546875, 409600.0]\n",
      "[832787.9577636719, 409600.0]\n",
      "[826970.4899902344, 409600.0]\n",
      "epoch: 20, log ppl: 2.018970922827721, predict: time traveller  and the was the was the was \n",
      "log perplexity 2.0\n",
      "time traveller  and the was the was the was \n",
      "traveller  and the was the was the was \n"
     ]
    }
   ],
   "source": [
    "num_epochs, lr = 20, 0.1\n",
    "train_ch8(net, train_iter, vocab, lr, num_epochs)"
   ]
  },
  {
   "cell_type": "markdown",
   "metadata": {},
   "source": [
    "# 4.GRU\n",
    "\n",
    "when calculate gradient in RNNs, long products of matrices can lead to vanishing or exploding gradients.\n",
    "\n",
    "A number of methods have been proposed to address this, one is gru.\n",
    "\n",
    "The key distinction between RNNs and GRUs is that the latter support gating of the hidden state\n",
    "\n",
    "This means that we have mechanisms for when a hidden state should be updated and also when it should be reset\n",
    "\n",
    "For instance, if the first token is of great importance we will learn not to update the hidden state after the first observation. Likewise, we will learn to skip irrelevant temporary observations"
   ]
  },
  {
   "cell_type": "markdown",
   "metadata": {},
   "source": [
    "## 4.1 reset gate and update gate:\n",
    "\n",
    "![jupyter](./gru-1.svg)\n",
    "\n",
    "equations:\n",
    "\n",
    "$$\n",
    "\\begin{aligned}\n",
    "R_t = \\sigma(X_t W_{xr} + H_{t-1} W_{hr} + b_r),\\\\\n",
    "Z_t = \\sigma(X_t W_{xz} + H_{t-1} W_{hz} + b_z),\n",
    "\\end{aligned}\n",
    "$$\n",
    "\n",
    "where $X_{t} \\in \\mathbb{R}^{n \\times d}, W_{xr},W_{xz} \\in \\mathbb{R}^{d \\times h}, H_{t-1} \\in \\mathbb{R}^{n \\times h}, W_{hr},W_{hz} \\in \\mathbb{R}^{h \\times h}, b_r,b_z \\in \\mathbb{R}^{1 \\times h}$.\n",
    "\n",
    "finally $R_t, Z_t \\in \\mathbb{R}^{n \\times h}$ with elements in $(0, 1)$."
   ]
  },
  {
   "cell_type": "markdown",
   "metadata": {},
   "source": [
    "## 4.2 candidate hidden state\n",
    "\n",
    "integrate the reset gate  $R_{t}$  with the regular latent state updating:\n",
    "\n",
    "$$\\tilde{H}_{t} = tanh(X_{t}W_{xh} + (R_{t} \\odot H_{t-1})W_{hh} + b_{h})$$\n",
    "\n",
    "the difference between RNNs and GRUs:\n",
    "\n",
    "$$H_{t-1} \\to R_{t} \\odot H_{t-1}$$\n",
    "\n",
    "reset gate: control how much of the previous state we might still want to remember, better capture short dependencies.\n",
    "\n",
    "RNNs: how much to remember is fixed along all steps. \n",
    "\n",
    "GRUs: how much to remember is flexible determined by $(X_{t}, H_{t-1})$"
   ]
  },
  {
   "cell_type": "markdown",
   "metadata": {},
   "source": [
    "## 4.3 hidden state\n",
    "\n",
    "incorporate the effect of the update gate  $Z_{t}$. \n",
    "\n",
    "$$H_{t} = Z_{t} \\odot H_{t-1} + (1 - Z_{t}) \\odot \\tilde{H}_{t}$$\n",
    "\n",
    "$Z_{t}$  is close to 1: we simply retain the old state, In this case the information from  $X_{t}$  is essentially ignored.\n",
    "\n",
    "$Z_{t}$ is close to 0: $H_{t}$  approaches the candidate latent state  $\\tilde{H}_{t}$\n",
    "\n",
    "this design: better capture dependencies for sequences with large time step distances.\n",
    "\n",
    "![jupyter](./gru-3.svg)\n",
    "\n",
    "reset gate $R_{t}$: inner, short dependencies.\n",
    "\n",
    "update gate $Z_{t}$: outer, long dependencies."
   ]
  },
  {
   "cell_type": "markdown",
   "metadata": {},
   "source": [
    "## 4.4 gru implementation"
   ]
  },
  {
   "cell_type": "code",
   "execution_count": 24,
   "metadata": {},
   "outputs": [],
   "source": [
    "gru_layer = nn.GRU(len(vocab), num_hiddens)\n",
    "gru_net = RNNModel(gru_layer, vocab_size=len(vocab))"
   ]
  },
  {
   "cell_type": "code",
   "execution_count": 25,
   "metadata": {},
   "outputs": [
    {
     "name": "stdout",
     "output_type": "stream",
     "text": [
      "[1054971.4916992188, 409600.0]\n",
      "[944450.4013671875, 409600.0]\n",
      "[901697.2551269531, 409600.0]\n",
      "[863771.1938476562, 409600.0]\n",
      "[832967.2651367188, 409600.0]\n",
      "[807706.5061035156, 409600.0]\n",
      "[785972.5317382812, 409600.0]\n",
      "[766509.771484375, 409600.0]\n",
      "[748810.5920410156, 409600.0]\n",
      "[732009.4262695312, 409600.0]\n",
      "epoch: 10, log ppl: 1.7871323883533479, predict: time traveller  and the some   said the cour\n",
      "[717385.9912109375, 409600.0]\n",
      "[703166.6278076172, 409600.0]\n",
      "[690413.8989257812, 409600.0]\n",
      "[678581.875, 409600.0]\n",
      "[666910.7310791016, 409600.0]\n",
      "[656641.9514160156, 409600.0]\n",
      "[647003.2758789062, 409600.0]\n",
      "[637546.5866699219, 409600.0]\n",
      "[628813.0640869141, 409600.0]\n",
      "[621071.2762451172, 409600.0]\n",
      "epoch: 20, log ppl: 1.5162872955203057, predict: time traveller  and the look of the look of \n",
      "log perplexity 1.5\n",
      "time traveller  and the look of the look of \n",
      "traveller  and the look of the look of \n"
     ]
    }
   ],
   "source": [
    "num_epochs, lr = 20, 1\n",
    "train_ch8(gru_net, train_iter, vocab, lr, num_epochs)"
   ]
  },
  {
   "cell_type": "markdown",
   "metadata": {},
   "source": [
    "# 5. LSTM\n",
    "\n",
    "challenges: long-term information preservation and short-term input skipping."
   ]
  },
  {
   "cell_type": "markdown",
   "metadata": {},
   "source": [
    "## 5.1 input gate, forget gate, output gate\n",
    "\n",
    "equations:\n",
    "\n",
    "$$\n",
    "\\begin{aligned}\n",
    "I_t = \\sigma(X_t W_{xi} + H_{t-1} W_{hi} + b_i),\\\\\n",
    "F_t = \\sigma(X_t W_{xf} + H_{t-1} W_{hf} + b_f),\\\\\n",
    "O_t = \\sigma(X_t W_{xo} + H_{t-1} W_{ho} + b_o)\n",
    "\\end{aligned}\n",
    "$$\n",
    "\n",
    "where $X_{t} \\in \\mathbb{R}^{n \\times d}, W_{xi},W_{xf},W_{xo} \\in \\mathbb{R}^{d \\times h}, H_{t-1} \\in \\mathbb{R}^{n \\times h}, W_{hi},W_{hf},W_{ho} \\in \\mathbb{R}^{h \\times h}, b_i,b_f,b_o \\in \\mathbb{R}^{1 \\times h}$.\n",
    "\n",
    "finally $I_t, F_t, O_t \\in \\mathbb{R}^{n \\times h}$ with elements in $(0, 1)$."
   ]
  },
  {
   "cell_type": "markdown",
   "metadata": {},
   "source": [
    "## 5.2 memory cell\n",
    "\n",
    "we first have the candidate memory cell using the tanh activation:\n",
    "\n",
    "$$\\tilde{C}_{t} = tanh(X_t W_{xc} + H_{t-1} W_{hc} + b_c)$$\n",
    "\n",
    "![jupyter](./lstm-1.svg)\n",
    "\n",
    "forget gate $F_{t}$: addresses how much of the old memory cell content  $C_{t-1}$  we retain.\n",
    "\n",
    "input gate $I_{t}$: how much we take new data into account via  $\\tilde{C}_{t}$\n",
    "\n",
    "$$C_{t} = F_{t} \\odot C_{t-1} + I_{t} \\odot \\tilde{C}_{t}$$"
   ]
  },
  {
   "cell_type": "markdown",
   "metadata": {},
   "source": [
    "## 5.3 hidden state\n",
    "\n",
    "output gate: how to use memory in hidden state.\n",
    "\n",
    "$$H_{t} = O_{t} \\odot tanh(C_{t})$$\n",
    "\n",
    "$H_{t}$ is therefore in the interval $(-1, 1)$.\n",
    "\n",
    "![jupyter](./lstm-3.svg)\n",
    "\n",
    "output gate $O_{t}$: outer, long term dependencies.\n",
    "\n",
    "input gate $I_{t}$, forget gate $F_{t}$: inner, short term dependencies."
   ]
  },
  {
   "cell_type": "markdown",
   "metadata": {},
   "source": [
    "## 5.4 lstm implementation"
   ]
  },
  {
   "cell_type": "code",
   "execution_count": 26,
   "metadata": {},
   "outputs": [],
   "source": [
    "lstm_layer = nn.LSTM(len(vocab), num_hiddens)\n",
    "lstm_net = RNNModel(lstm_layer, vocab_size=len(vocab))"
   ]
  },
  {
   "cell_type": "code",
   "execution_count": 27,
   "metadata": {},
   "outputs": [
    {
     "name": "stdout",
     "output_type": "stream",
     "text": [
      "[1118021.6059570312, 409600.0]\n",
      "[988276.4377441406, 409600.0]\n",
      "[926200.8269042969, 409600.0]\n",
      "[878798.1450195312, 409600.0]\n",
      "[845311.0756835938, 409600.0]\n",
      "[819399.6647949219, 409600.0]\n",
      "[797496.4208984375, 409600.0]\n",
      "[779348.2241210938, 409600.0]\n",
      "[763585.3178710938, 409600.0]\n",
      "[749472.0363769531, 409600.0]\n",
      "epoch: 10, log ppl: 1.8297657138109207, predict: time traveller  and the was she was so the w\n",
      "[736294.2172851562, 409600.0]\n",
      "[724202.1860351562, 409600.0]\n",
      "[713321.5804443359, 409600.0]\n",
      "[702926.9617919922, 409600.0]\n",
      "[692832.9311523438, 409600.0]\n",
      "[682982.3431396484, 409600.0]\n",
      "[674459.2429199219, 409600.0]\n",
      "[665829.2003173828, 409600.0]\n",
      "[657729.9713134766, 409600.0]\n",
      "[650052.0603027344, 409600.0]\n",
      "epoch: 20, log ppl: 1.5870411628484726, predict: time traveller  and she was not the look  an\n",
      "log perplexity 1.6\n",
      "time traveller  and she was not the look  an\n",
      "traveller  and she was not the look  an\n"
     ]
    }
   ],
   "source": [
    "num_epochs, lr = 20, 1\n",
    "train_ch8(lstm_net, train_iter, vocab, lr, num_epochs)"
   ]
  },
  {
   "cell_type": "markdown",
   "metadata": {},
   "source": [
    "# 6. Deep RNN\n",
    "\n",
    "![jupyter](./deep-rnn.svg)\n",
    "\n",
    "as above:\n",
    "\n",
    "$$H_{t}^{(l)}=\\phi_{l}(H_{t}^{(l-1)}W_{xh}^{(l)} + H_{t-1}^{(l)}W_{hh}^{(l)} + b_{h}^{(l)})$$\n",
    "\n",
    "for $l=1,...,L$\n",
    "\n",
    "$$O_{t} = H_{t}^{(L)}W_{hq} + b_{q}$$"
   ]
  },
  {
   "cell_type": "code",
   "execution_count": 28,
   "metadata": {},
   "outputs": [],
   "source": [
    "num_layers = 2\n",
    "deep_lstm_layer = nn.LSTM(len(vocab), num_hiddens, num_layers)\n",
    "deep_net = RNNModel(deep_lstm_layer, len(vocab))"
   ]
  },
  {
   "cell_type": "code",
   "execution_count": 29,
   "metadata": {},
   "outputs": [
    {
     "name": "stdout",
     "output_type": "stream",
     "text": [
      "[1150702.6823730469, 409600.0]\n",
      "[1133167.1555175781, 409600.0]\n",
      "[1078806.6975097656, 409600.0]\n",
      "[993128.4448242188, 409600.0]\n",
      "[942791.634765625, 409600.0]\n",
      "[899306.4836425781, 409600.0]\n",
      "[865599.5139160156, 409600.0]\n",
      "[837706.634765625, 409600.0]\n",
      "[813521.7421875, 409600.0]\n",
      "[791230.4956054688, 409600.0]\n",
      "epoch: 10, log ppl: 1.931715077161789, predict: time traveller  and the was the was the was \n",
      "[770275.5971679688, 409600.0]\n",
      "[750647.5651855469, 409600.0]\n",
      "[731986.6030273438, 409600.0]\n",
      "[714455.7307128906, 409600.0]\n",
      "[698431.6827392578, 409600.0]\n",
      "[682560.5623779297, 409600.0]\n",
      "[668317.4476318359, 409600.0]\n",
      "[654679.9007568359, 409600.0]\n",
      "[642562.7067871094, 409600.0]\n",
      "[631049.6389160156, 409600.0]\n",
      "epoch: 20, log ppl: 1.5406485325098038, predict: time traveller  and the word  and the word  \n",
      "log perplexity 1.5\n",
      "time traveller  and the word  and the word  \n",
      "traveller  and the word  and the word  \n"
     ]
    }
   ],
   "source": [
    "num_epochs, lr = 20, 1\n",
    "train_ch8(deep_net, train_iter, vocab, lr, num_epochs)"
   ]
  },
  {
   "cell_type": "markdown",
   "metadata": {},
   "source": [
    "# 7. bidirectional\n",
    "\n",
    "![jupyter](./birnn.svg)\n",
    "\n",
    "as above:\n",
    "\n",
    "$$\\overrightarrow{H}_{t} = \\phi(X_{t}W_{xh}^{(f)} + \\overrightarrow{H}_{t-1}W_{hh}^{(f)} + b_{h}^{(f)})$$\n",
    "\n",
    "$$\\overleftarrow{H}_{t} = \\phi(X_{t}W_{xh}^{(b)} + \\overleftarrow{H}_{t-1}W_{hh}^{(b)} + b_{h}^{(b)})$$\n",
    "\n",
    "we concatenate $\\overrightarrow{H}_{t}$ adn $\\overleftarrow{H}_{t}$ to obtain $H_{t} \\in \\mathbb{R}^{n \\times 2h}$, output obtained as before:\n",
    "\n",
    "$$O_{t} = H_{t}W_{hq} + b_{q}$$"
   ]
  },
  {
   "cell_type": "code",
   "execution_count": 30,
   "metadata": {},
   "outputs": [],
   "source": [
    "num_layers = 2\n",
    "bidirect_lstm_layer = nn.LSTM(len(vocab), num_hiddens, num_layers, bidirectional=True)\n",
    "bidirect_net = RNNModel(deep_lstm_layer, len(vocab))"
   ]
  },
  {
   "cell_type": "code",
   "execution_count": 31,
   "metadata": {},
   "outputs": [
    {
     "name": "stdout",
     "output_type": "stream",
     "text": [
      "[709594.7413330078, 409600.0]\n",
      "[634474.9022216797, 409600.0]\n",
      "[617450.8214111328, 409600.0]\n",
      "[605551.7904052734, 409600.0]\n",
      "[595406.4786376953, 409600.0]\n",
      "[586651.1726074219, 409600.0]\n",
      "[578493.7227783203, 409600.0]\n",
      "[570757.8781738281, 409600.0]\n",
      "[563096.3681640625, 409600.0]\n",
      "[557130.7687988281, 409600.0]\n",
      "epoch: 10, log ppl: 1.360182541012764, predict: time traveller  and the subser  and the subs\n",
      "[549139.5981445312, 409600.0]\n",
      "[543127.6768798828, 409600.0]\n",
      "[536264.2211914062, 409600.0]\n",
      "[529680.9241943359, 409600.0]\n",
      "[523197.787109375, 409600.0]\n",
      "[517423.6015625, 409600.0]\n",
      "[510785.7235107422, 409600.0]\n",
      "[504198.08142089844, 409600.0]\n",
      "[499437.68017578125, 409600.0]\n",
      "[494444.2214355469, 409600.0]\n",
      "epoch: 20, log ppl: 1.207139212489128, predict: time travellers  and the mouse was so the ro\n",
      "log perplexity 1.2\n",
      "time travellers  and the mouse was so the ro\n",
      "traveller  and the mouse was sometimes \n"
     ]
    }
   ],
   "source": [
    "num_epochs, lr = 20, 1\n",
    "train_ch8(bidirect_net, train_iter, vocab, lr, num_epochs)"
   ]
  },
  {
   "cell_type": "code",
   "execution_count": null,
   "metadata": {},
   "outputs": [],
   "source": []
  }
 ],
 "metadata": {
  "kernelspec": {
   "display_name": "Python 3",
   "language": "python",
   "name": "python3"
  },
  "language_info": {
   "codemirror_mode": {
    "name": "ipython",
    "version": 3
   },
   "file_extension": ".py",
   "mimetype": "text/x-python",
   "name": "python",
   "nbconvert_exporter": "python",
   "pygments_lexer": "ipython3",
   "version": "3.8.3"
  }
 },
 "nbformat": 4,
 "nbformat_minor": 4
}
