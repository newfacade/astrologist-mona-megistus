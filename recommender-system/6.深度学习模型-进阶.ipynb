{
 "cells": [
  {
   "cell_type": "markdown",
   "metadata": {},
   "source": [
    "# 1.DIN-注意力机制\n",
    "\n",
    "阿里提出，其base-model是一个典型的embedding + mlp结构。\n",
    "\n",
    "![jupyter](din1.jpg)\n",
    "\n",
    "这里所有用户历史购买的商品Embedding会被取平均，比如说“鼠标””T恤“”洗面奶“的Embedding会被取平均。\n",
    "\n",
    "但是当候选商品是“键盘”的时候，我们更加关注的是用户历史序列中的“鼠标”购买行为，这就需要加入注意力机制。\n",
    "\n",
    "![jupyter](din2.jpg)"
   ]
  },
  {
   "cell_type": "markdown",
   "metadata": {},
   "source": [
    "# 2.DIEN-兴趣进化序列\n",
    "\n",
    "无论是电商序列，还是视频观看序列，都是时间相关的序列中，存在着前后行为的依赖关系，它是很有价值的。\n",
    "\n",
    "DIEN在DIN的基础上对序列行为进行了建模，它使用了GRU和AUGRU（GRU with Attention update gate）来进行序列建模：\n",
    "\n",
    "![jupyter](din3.jpg)"
   ]
  },
  {
   "cell_type": "markdown",
   "metadata": {},
   "source": [
    "# 3.强化学习DRN\n",
    "\n",
    "实时更新模型\n",
    "\n",
    "![jupyter](drn1.jpg)\n",
    "\n",
    "drn在线学习方法：竞争梯度下降（随机扰动）\n",
    "\n",
    "![jupyter](drn2.jpg)\n",
    "\n",
    "很好，但是难以落地，需很强的协调、工程能力。"
   ]
  },
  {
   "cell_type": "code",
   "execution_count": null,
   "metadata": {},
   "outputs": [],
   "source": []
  }
 ],
 "metadata": {
  "kernelspec": {
   "display_name": "Python 3",
   "language": "python",
   "name": "python3"
  },
  "language_info": {
   "codemirror_mode": {
    "name": "ipython",
    "version": 3
   },
   "file_extension": ".py",
   "mimetype": "text/x-python",
   "name": "python",
   "nbconvert_exporter": "python",
   "pygments_lexer": "ipython3",
   "version": "3.8.3"
  }
 },
 "nbformat": 4,
 "nbformat_minor": 4
}
