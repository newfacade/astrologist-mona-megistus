{
 "cells": [
  {
   "cell_type": "markdown",
   "metadata": {},
   "source": [
    "# 1.what is machine learning\n",
    "\n",
    "term \"machine learning\" coined by Arthur Samuel in 1959:\n",
    "\n",
    "field of study that gives computers the ability to learn without beging explicitly programmed. \n",
    "\n",
    "common definition by Tom Mitchell in 1988:\n",
    "\n",
    "a computer program is said to learn from experience E with respect to some task T and some performace measure P, if its performance on T, as measured by P, improves with experience E.\n",
    "\n",
    "machine learning is a subfield of artificial intelligence (AI).\n",
    "\n",
    "it is the hottest subfield of AI.\n",
    "\n",
    "deep learning is a subfield of machine learning.\n",
    "\n",
    "it is the hottest subfield of machine learning.\n",
    "\n",
    "recent reinvigorated interest in AI due to deep learning."
   ]
  },
  {
   "cell_type": "markdown",
   "metadata": {},
   "source": [
    "# 2.recent progress\n",
    "\n",
    "1.computer vision / image recognition\n",
    "\n",
    "ImageNet\n",
    "\n",
    "convolutional neural networks\n",
    "\n",
    "autonomous driving \n",
    "\n",
    "2.speech recognition\n",
    "\n",
    "voice assistants\n",
    "\n",
    "3.language translation\n",
    "\n",
    "google translate\n",
    "\n",
    "4.game playing / deep reinforcement learning\n",
    "\n",
    "atari\n",
    "\n",
    "alphago"
   ]
  },
  {
   "cell_type": "markdown",
   "metadata": {},
   "source": [
    "# 3.why machine learning"
   ]
  },
  {
   "cell_type": "markdown",
   "metadata": {},
   "source": [
    "# 4.types of machine learning\n",
    "\n",
    "by supervised or not:\n",
    "\n",
    "1. supervised learning\n",
    "\n",
    "2. unsupervised learning\n",
    "\n",
    "3. semi-supervised learning\n",
    "\n",
    "4. reinforcement learning\n",
    "\n",
    "by data-flow:\n",
    "\n",
    "1. batch learning\n",
    "\n",
    "2. online learning\n",
    "\n"
   ]
  },
  {
   "cell_type": "markdown",
   "metadata": {},
   "source": [
    "# 5. three key elements of machine learning\n",
    "\n",
    "1. model\n",
    "\n",
    "2. strategy\n",
    "\n",
    "3. algorithm"
   ]
  },
  {
   "cell_type": "markdown",
   "metadata": {},
   "source": [
    "# 6. challenges of machine learning\n",
    "\n",
    "data is unsufficient\n",
    "\n",
    "..."
   ]
  },
  {
   "cell_type": "code",
   "execution_count": null,
   "metadata": {},
   "outputs": [],
   "source": []
  }
 ],
 "metadata": {
  "kernelspec": {
   "display_name": "Python 3",
   "language": "python",
   "name": "python3"
  },
  "language_info": {
   "codemirror_mode": {
    "name": "ipython",
    "version": 3
   },
   "file_extension": ".py",
   "mimetype": "text/x-python",
   "name": "python",
   "nbconvert_exporter": "python",
   "pygments_lexer": "ipython3",
   "version": "3.8.3"
  }
 },
 "nbformat": 4,
 "nbformat_minor": 4
}
