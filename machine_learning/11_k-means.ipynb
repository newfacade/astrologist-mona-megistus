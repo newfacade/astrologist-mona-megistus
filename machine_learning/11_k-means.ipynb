{
 "cells": [
  {
   "cell_type": "markdown",
   "metadata": {},
   "source": [
    "# 1.k-means algorithm\n",
    "in the clustering problem, we are given a training set $\\left\\{x^{(1)},...,x^{(n)}\\right\\}$, and want to group the data into a few cohesive \"clusters\".\n",
    "\n",
    "here, $x^{(i)} \\in \\mathbb{R}^{d}$ as usual, but no labels $y^{(i)}$ are given, so this is an unsupervised learning problem.\n",
    "\n",
    "k-means clustering algorithm:\n",
    "\n",
    "1. initialize cluster centroids $\\mu_{1},...,\\mu_{k} \\in \\mathbb{R}^{d}$ randomly.\n",
    "2. repeat until convergence:<br>\n",
    "$\\quad$ for each $i$, set: \n",
    "$$c^{(i)} := \\underset{j}{argmin}\\left \\|x^{(i)} - \\mu_{j} \\right \\|^{2} $$\n",
    "$\\quad$ for each $j$, set:\n",
    "$$\\mu_{j} := \\frac{\\sum_{i=1}^{n}1\\left\\{c^{(i)}=j\\right\\}x^{(i)}}{\\sum_{i=1}^{n}1\\left\\{c^{(i)}=j\\right\\}}$$\n",
    "\n",
    "k is the number of clusters we want to find."
   ]
  },
  {
   "cell_type": "markdown",
   "metadata": {},
   "source": [
    "# 2.convergence\n",
    "\n",
    "define the distortion function to be:\n",
    "\n",
    "$$J(c,\\mu) = \\sum_{i=1}^{n}\\left \\|x^{(i)} - \\mu_{c^{(i)}} \\right \\|^{2}$$\n",
    "\n",
    "thus $J$ measures the sum of squared distances between each training example $x^{(i)}$ and the nearest cluster centroid $\\mu_{c^{(i)}}$\n",
    "\n",
    "k-means is exactly coordinate descent on $J$.\n",
    "\n",
    "the first step of k-means inner-loop:\n",
    "\n",
    "$\\quad$ minimize $J$ with respect to $c$ while holding $\\mu$ fixed.\n",
    "\n",
    "the second step of k-means inner-loop:\n",
    "\n",
    "$\\quad$ minimize $J$ with respect to $\\mu$ while holding $c$ fixed.\n",
    "\n",
    "but the distortion function $J$ is non-convex, so k-means may converge to local minimal.\n",
    "\n",
    "to tackle this local-minimal problem, we commonly run k-means many times, and choose the one gives the lowest $J(c, \\mu)$"
   ]
  },
  {
   "cell_type": "code",
   "execution_count": null,
   "metadata": {},
   "outputs": [],
   "source": []
  }
 ],
 "metadata": {
  "kernelspec": {
   "display_name": "Python 3",
   "language": "python",
   "name": "python3"
  },
  "language_info": {
   "codemirror_mode": {
    "name": "ipython",
    "version": 3
   },
   "file_extension": ".py",
   "mimetype": "text/x-python",
   "name": "python",
   "nbconvert_exporter": "python",
   "pygments_lexer": "ipython3",
   "version": "3.8.3"
  }
 },
 "nbformat": 4,
 "nbformat_minor": 4
}
