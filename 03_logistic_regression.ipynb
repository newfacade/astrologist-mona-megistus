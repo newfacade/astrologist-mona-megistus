{
 "cells": [
  {
   "cell_type": "markdown",
   "metadata": {},
   "source": [
    "# why not linear regression\n",
    "\n",
    "suppose a binary classification problem, it's dataset is $\\left \\{ (x^{(1)},y^{(1)}),...,(x^{(n)},y^{(n)}) \\right \\} $, where $x^{(i)} \\in \\mathbb{R}^{d},\\ y^{(i)} \\in \\left \\{ 0, 1\\right \\}$.\n",
    "\n",
    "can we use linear regression in this problem? i.e:\n",
    "\n",
    "$$h_{\\theta}(x^{(i)}) = \\theta^{T}y^{(i)}$$\n",
    "\n",
    "and\n",
    "\n",
    "$$J(\\theta) = \\frac{1}{2}\\sum_{i=1}^{n}(h_{\\theta}(x^{(i)}) - y^{(i)})^2$$\n",
    "\n",
    "for the purpose of classification, we may predict 1 whenever  $\\theta^{T}x^{(i)} >= 0.5$, predict 0 otherwise, thus have the separating surface $\\theta^{T}x^{(i)} = 0.5$. \n",
    "\n",
    "according to the loss function, we have the positive surface $\\theta^{T}x^{(i)} = 1$, negative surface $\\theta^{T}x^{(i)} = 0$. \n",
    "\n",
    "we want positive samples to be close to positive surface, negative samples to be close to negative surface. \n",
    "\n",
    "at this setting, for pairs $(h_{\\theta}(x^{(i)}), y^{(i)})$\n",
    "\n",
    "$(0, 1)$ is a positive sample lie in the negative surface, loss is $(0-1)^2$.\n",
    "\n",
    "$(100, 1)$ is a positive sample with prediction very \"positive\", loss is $(100 - 1)^2$, way bigger than the first sample, this is absurd."
   ]
  },
  {
   "cell_type": "code",
   "execution_count": 1,
   "metadata": {},
   "outputs": [],
   "source": [
    "%matplotlib inline\n",
    "import matplotlib.pyplot as plt\n",
    "import numpy as np\n",
    "from sklearn.linear_model import LinearRegression"
   ]
  },
  {
   "cell_type": "code",
   "execution_count": 2,
   "metadata": {},
   "outputs": [
    {
     "data": {
      "text/plain": [
       "LinearRegression()"
      ]
     },
     "execution_count": 2,
     "metadata": {},
     "output_type": "execute_result"
    }
   ],
   "source": [
    "x_pos = np.vstack((np.random.multivariate_normal([3, 0], [[1, 0], [0, 1]], 9), np.array([40, 0])))\n",
    "x_neg = np.random.multivariate_normal([-3, 0], [[1, 0], [0, 1]], 10)\n",
    "x = np.vstack((x_neg, x_pos))\n",
    "y = np.concatenate((np.zeros(10), np.ones(10)))\n",
    "model = LinearRegression()\n",
    "model.fit(x, y)"
   ]
  },
  {
   "cell_type": "code",
   "execution_count": 3,
   "metadata": {},
   "outputs": [
    {
     "data": {
      "image/png": "[encoded data removed]",
      "text/plain": [
       "<Figure size 432x288 with 1 Axes>"
      ]
     },
     "metadata": {
      "needs_background": "light"
     },
     "output_type": "display_data"
    }
   ],
   "source": [
    "plt.scatter(x_neg[:, 0], x_neg[:, 1], c='green', marker='o', label='negative samples')\n",
    "plt.scatter(x_pos[:, 0], x_pos[:, 1], c='red', marker='x', label='positive samples')\n",
    "plt.plot(np.linspace(-4, 10, 100), \n",
    "         -(model.coef_[0] * np.linspace(-4, 10, 100) + model.intercept_ - 0.5) / model.coef_[1],\n",
    "         label=\"linear regression separating\")\n",
    "plt.axvline(x=0, c=\"purple\",label=\"wanted separating\")\n",
    "plt.legend()\n",
    "plt.show()"
   ]
  },
  {
   "cell_type": "markdown",
   "metadata": {},
   "source": [
    "# logistic regression model\n",
    "\n",
    "some comments on why not linear regression unfit for binary classification problem:\n",
    "\n",
    "1. $h_{\\theta}(x) = \\theta^{T}x \\in \\mathbb{R}$, while $y \\in \\left \\{ 0, 1\\right \\}$\n",
    "2. we want to find a monotony increase function $f$ that maps from $\\mathbb{R}$ to $[0, 1]$, and the prediction change to $h_{\\theta}(x) = f(\\theta^{T}x)$\n",
    "3. $h_{\\theta}(x)$ can be seen as the probability of $y=1$\n",
    "\n",
    "the sigmoid function is a nice one:\n",
    "\n",
    "$$\\sigma(x) = \\frac{1}{1 + e^{-x}}$$\n",
    "\n",
    "using sigmoid function, we derive the logistic regression model:\n",
    "\n",
    "$$h_{\\theta}(x) = \\frac{1}{1 + e^{-\\theta^{T}x}}$$\n",
    "\n",
    "with probability interpretation:\n",
    "\n",
    "$$p(y=1|x) = h_{\\theta}(x)$$"
   ]
  },
  {
   "cell_type": "code",
   "execution_count": 4,
   "metadata": {},
   "outputs": [
    {
     "data": {
      "image/png": "[encoded data removed]",
      "text/plain": [
       "<Figure size 432x288 with 1 Axes>"
      ]
     },
     "metadata": {
      "needs_background": "light"
     },
     "output_type": "display_data"
    }
   ],
   "source": [
    "x = np.linspace(-5, 5, 100)\n",
    "plt.plot(x, 1 / (1 + np.exp(-x)))\n",
    "plt.title(\"sigmoid\")\n",
    "plt.show()"
   ]
  },
  {
   "cell_type": "markdown",
   "metadata": {},
   "source": [
    "# cross entropy loss\n",
    "\n",
    "as we suppose\n",
    "\n",
    "$$p(y=1|x) = h_{\\theta}(x)$$\n",
    "\n",
    "and\n",
    "\n",
    "$$p(y=0|x) = 1 - h_{\\theta}(x)$$\n",
    "\n",
    "combine these two:\n",
    "\n",
    "$$p(y^{(i)}|x^{(i)}) = \\left [ h_{\\theta}(x^{(i)}) \\right ]^{y^{(i)}}\\left [ 1 - h_{\\theta}(x^{(i)}) \\right ]^{1 - y^{(i)}} $$\n",
    "\n",
    "log likelikhood function:\n",
    "\n",
    "$$\n",
    "\\begin{equation}\n",
    "\\begin{split}\n",
    "L(\\theta) &= log\\prod_{i=1}^{n} \\left [ h_{\\theta}(x^{(i)}) \\right ]^{y^{(i)}}\\left [ 1 - h_{\\theta}(x^{(i)}) \\right ]^{1 - y^{(i)}} \\\\\n",
    "&= \\sum_{i=1}^{n}\\left [y^{(i)}log\\ h_{\\theta}(x^{(i)}) + (1 - y^{(i)})log(1 - h_{\\theta}(x^{(i)})) \\right ]\n",
    "\\end{split}\n",
    "\\end{equation}\n",
    "$$\n",
    "\n",
    "using maximum likelihood, we derive the cross entropy loss:\n",
    "\n",
    "$$J(\\theta) = \\sum_{i=1}^{n}-y^{(i)}log(h_{\\theta}(x^{(i)})) - (1 - y^{(i)})log(1 - h_{\\theta}(x^{(i)}))$$\n",
    "\n",
    "write in matrix form:\n",
    "\n",
    "$$J(\\theta) = -y^{T}log(\\sigma(\\theta^{T}X)) - (1 - y)^{T}log(1 - \\sigma(\\theta^{T}X))$$"
   ]
  },
  {
   "cell_type": "markdown",
   "metadata": {},
   "source": [
    "# update-rule\n",
    "\n",
    "we have:\n",
    "\n",
    "$$\n",
    "\\begin{equation}\n",
    "\\begin{split}\n",
    "\\frac{\\partial }{\\partial \\theta_{j}}J(\\theta ) &= \\frac{\\partial }{\\partial \\theta_{j}}\\sum_{i=1}^{n}-log(\\sigma(\\theta^{T}x^{(i)}))y^{(i)} - log(1 - \\sigma(\\theta^{T}x^{(i)}))(1 - y^{(i)}) \\\\\n",
    "&= \\sum_{i=1}^{n} \\left (-y^{(i)}\\frac{1}{\\sigma(\\theta^{T}x^{(i)})} + (1 - y^{(i)})\\frac{1}{1 - \\sigma(\\theta^{T}x^{(i)})} \\right )\\frac{\\partial }{\\partial \\theta_{j}}\\sigma(\\theta^{T}x^{(i)})\\\\\n",
    "&=\\sum_{i=1}^{n} \\left (-y^{(i)}\\frac{1}{\\sigma(\\theta^{T}x^{(i)})} + (1 - y^{(i)})\\frac{1}{1 - \\sigma(\\theta^{T}x^{(i)})} \\right )\\sigma(\\theta^{T}x^{(i)})(1-\\sigma(\\theta^{T}x^{(i)}))\\frac{\\partial }{\\partial \\theta_{j}}\\theta^{T}x^{(i)} \\\\\n",
    "&=\\sum_{i=1}^{n}(\\sigma(\\theta^{T}x^{(i)}) - y^{(i)})x_{j}^{(i)} \\\\\n",
    "&=\\sum_{i=1}^{n}(h_{\\theta}(x^{(i)}) - y^{(i)})x_{j}^{(i)}\n",
    "\\end{split}\n",
    "\\end{equation}\n",
    "$$\n",
    "\n",
    "the same form with linear regression!\n",
    "\n",
    "as linear regression, we have the update rule for logistic regression:\n",
    "\n",
    "$$\\theta_{j}: =\\theta_{j} - \\alpha\\sum_{i=1}^{n} (h_{\\theta }(x^{(i)}) - y^{(i)})x_{j}^{(i)} $$\n",
    "\n",
    "combine all dimensions, we have:\n",
    "\n",
    "$$\\theta: =\\theta - \\alpha\\sum_{i=1}^{n} (h_{\\theta }(x^{(i)}) - y^{(i)})\\cdot x^{(i)} $$\n",
    "\n",
    "write in matrix form：\n",
    "$$\n",
    "\\frac{\\partial }{\\partial \\theta}J(\\theta ) = X^{T}(\\sigma(X\\theta) -y)\n",
    "$$\n",
    "matrix form of update formula：\n",
    "$$\n",
    "\\theta: =\\theta - \\alpha X^{T}(\\sigma(X\\theta)-\\mathbf{y} )\n",
    "$$"
   ]
  },
  {
   "cell_type": "markdown",
   "metadata": {},
   "source": [
    "# regularization"
   ]
  },
  {
   "cell_type": "markdown",
   "metadata": {},
   "source": [
    "like linear regression, we add penalty term on $J(\\theta)$ for regularization\n",
    "\n",
    "l2 penalty：\n",
    "$$J(\\theta) := J(\\theta) + \\lambda \\left \\| \\theta \\right \\|_{2}^{2} $$\n",
    "\n",
    "l1 penalty：\n",
    "$$J(\\theta) := J(\\theta) + \\lambda \\left \\| \\theta \\right \\|_{1} $$"
   ]
  },
  {
   "cell_type": "markdown",
   "metadata": {},
   "source": [
    "# softmax regression\n",
    "\n",
    "while logistic regression can deal with binary classification, but how to solve the multi-class classification problem?\n",
    "\n",
    "suppose a k-class classification problem, it's dataset is $\\left \\{ (x^{(1)},y^{(1)}),...,(x^{(n)},y^{(n)}) \\right \\} $, where $x^{(i)} \\in \\mathbb{R}^{d},\\ y^{(i)} \\in \\left \\{ 1, 2, ..., k\\right \\}$\n",
    "\n",
    "models that output only one number is not sufficient, instead we want to output a probability distribution $(p_{1}(x), p_{2}(x), ..., p_{k}(x))$, where $p_{j}(x)$ can be interpreted as the probability of $y=j$, i.e\n",
    "\n",
    "$$p(y=j|x;\\theta) = p_{j}(x)$$\n",
    "\n",
    "to output a probability distribution with k values, we first need to simply output k values\n",
    "\n",
    "using linear model in each class: $s_{j}(x) = \\theta_{j}^{T}x$, we denote $\\theta = (\\theta_{1},...,\\theta_{k})$ is a $d \\times k$ matrix, $\\theta_{j}$ is it's j's column.\n",
    "\n",
    "after derive k values $s_{j}(x)$,we can use exp to tranform it into probability distribution:\n",
    "\n",
    "$$p_{j}(x) = \\frac{e^{s_{j}(x)}}{e^{s_{1}(x)} + e^{s_{2}(x)} + ... + e^{s_{k}(x)}} = \\frac{e^{\\theta_{j}^{T}x}}{e^{\\theta_{1}^{T}x} + ... + e^{\\theta_{k}^{T}x}}$$\n",
    "\n",
    "what is the loss function?\n",
    "\n",
    "when $y^{(i)} = j$, we only care about the size of $p_{j}(x^{(i)})$, i.e the predicted probability of the j-th class, this remind us of the cross-entropy loss:\n",
    "\n",
    "$$l(x^{(i)}, y^{(i)}) = -log\\ p_{y^{(i)}}\\ (x^{(i)})$$\n",
    "\n",
    "this is softmax regression"
   ]
  },
  {
   "cell_type": "code",
   "execution_count": null,
   "metadata": {},
   "outputs": [],
   "source": []
  }
 ],
 "metadata": {
  "kernelspec": {
   "display_name": "Python 3",
   "language": "python",
   "name": "python3"
  },
  "language_info": {
   "codemirror_mode": {
    "name": "ipython",
    "version": 3
   },
   "file_extension": ".py",
   "mimetype": "text/x-python",
   "name": "python",
   "nbconvert_exporter": "python",
   "pygments_lexer": "ipython3",
   "version": "3.8.3"
  }
 },
 "nbformat": 4,
 "nbformat_minor": 4
}
