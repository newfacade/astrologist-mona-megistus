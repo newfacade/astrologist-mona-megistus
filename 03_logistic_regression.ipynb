{
 "cells": [
  {
   "cell_type": "code",
   "execution_count": 1,
   "metadata": {},
   "outputs": [],
   "source": [
    "%matplotlib inline\n",
    "import numpy as np\n",
    "import matplotlib.pyplot as plt"
   ]
  },
  {
   "cell_type": "markdown",
   "metadata": {},
   "source": [
    "# 1.逻辑回归模型"
   ]
  },
  {
   "cell_type": "markdown",
   "metadata": {},
   "source": [
    "对于二分类问题，我们需要预测的是样本属于正例的概率，但是若以线性函数建模，即：\n",
    "$$h(x)=\\sum_{i=0}^{d} \\theta_{i} x_{i}$$\n",
    "此时$h(x) \\in \\mathbb{R} $，不能解释为概率。\n",
    "\n",
    "为了将模型结果解释为概率，最简单的方法就是将$\\sum_{i=0}^{d} \\theta_{i} x_{i}$从$\\mathbb{R}$映射到$[0,1]$之间，即：\n",
    "$$h(x)=g(\\sum_{i=0}^{d} \\theta_{i} x_{i})$$\n",
    "其中$g:\\mathbb{R} \\to [0,1]$\n",
    "\n",
    "若令$g(x) = \\sigma = \\frac{1}{1+e^{-x}}$，就得到了逻辑回归模型：\n",
    "\n",
    "$$h_{\\theta}(x) = \\sigma(\\theta^{T}x) = \\frac{1}{1+e^{-\\theta^{T}x}} $$"
   ]
  },
  {
   "cell_type": "code",
   "execution_count": 6,
   "metadata": {},
   "outputs": [],
   "source": [
    "def sigmoid(x):\n",
    "    return 1 / (1 + np.exp(-x))"
   ]
  },
  {
   "cell_type": "code",
   "execution_count": 7,
   "metadata": {},
   "outputs": [
    {
     "data": {
      "image/png": "[encoded data removed]",
      "text/plain": [
       "<Figure size 432x288 with 1 Axes>"
      ]
     },
     "metadata": {
      "needs_background": "light"
     },
     "output_type": "display_data"
    }
   ],
   "source": [
    "plt.plot(np.linspace(-5, 5, 100), 1 / (1 + np.exp(-np.linspace(-5, 5, 100))))\n",
    "plt.show()"
   ]
  },
  {
   "cell_type": "markdown",
   "metadata": {},
   "source": [
    "# 2.交叉熵"
   ]
  },
  {
   "cell_type": "markdown",
   "metadata": {},
   "source": [
    "假设我们预测某样本为正例的概率是$p$<br>\n",
    "若真实为正例，设此样本的损失为$l(p)$，我们应有：\n",
    "$$\\lim_{x \\to 0} l(x) = \\infty，\\lim_{x \\to 1 } l(x) = 0 $$\n",
    "若真实为负例，根据对称原则，其损失为$l(1 - p)$<br>\n",
    "\n",
    "对于逻辑回归，我们选择$l=-log$："
   ]
  },
  {
   "cell_type": "code",
   "execution_count": 8,
   "metadata": {},
   "outputs": [
    {
     "data": {
      "image/png": "[encoded data removed]",
      "text/plain": [
       "<Figure size 432x288 with 1 Axes>"
      ]
     },
     "metadata": {
      "needs_background": "light"
     },
     "output_type": "display_data"
    }
   ],
   "source": [
    "plt.plot(np.linspace(1e-4, 1, 100), -np.log(np.linspace(1e-4, 1, 100)))\n",
    "plt.show()"
   ]
  },
  {
   "cell_type": "markdown",
   "metadata": {},
   "source": [
    "则逻辑回归的损失函数可以写为：\n",
    "$$l(p,y) = -log(p)*y - log(1 - p)*(1 - y)$$\n",
    "目标函数为：\n",
    "$$J(\\theta) = \\sum_{i=1}^{n}-log(\\sigma(\\theta^{T}x^{(i)}))*y^{(i)} - log(1 - \\sigma(\\theta^{T}x^{(i)})) * (1 - y^{(i)})$$\n",
    "写成矩阵形式就是：\n",
    "$$J(\\theta) = -y^{T}log(\\sigma(\\theta^{T}X)) - (1 - y)^{T}log(1 - \\sigma(\\theta^{T}X))$$"
   ]
  },
  {
   "cell_type": "markdown",
   "metadata": {},
   "source": [
    "# 3.逻辑回归的梯度下降公式"
   ]
  },
  {
   "cell_type": "markdown",
   "metadata": {},
   "source": [
    "$$\n",
    "\\begin{equation}\n",
    "\\begin{split}\n",
    "\\frac{\\partial }{\\partial \\theta_{j}}J(\\theta ) &= \\frac{\\partial }{\\partial \\theta_{j}}\\sum_{i=1}^{n}-log(\\sigma(\\theta^{T}x^{(i)}))*y^{(i)} - log(1 - \\sigma(\\theta^{T}x^{(i)})) * (1 - y^{(i)}) \\\\\n",
    "&= \\sum_{i=1}^{n}(-y^{(i)}\\frac{1}{\\sigma(\\theta^{T}x^{(i)})} + (1 - y^{(i)})\\frac{1}{1 - \\sigma(\\theta^{T}x^{(i)})})\\frac{\\partial }{\\partial \\theta_{j}}\\sigma(\\theta^{T}x^{(i)})\\\\\n",
    "&=\\sum_{i=1}^{n}(-y^{(i)}\\frac{1}{\\sigma(\\theta^{T}x^{(i)})} + (1 - y^{(i)})\\frac{1}{1 - \\sigma(\\theta^{T}x^{(i)})})\\sigma(\\theta^{T}x^{(i)})(1-\\sigma(\\theta^{T}x^{(i)}))\\frac{\\partial }{\\partial \\theta_{j}}\\theta^{T}x^{(i)} \\\\\n",
    "\\end{split}\n",
    "\\end{equation}\n",
    "$$\n",
    "\n",
    "写成矩阵形式就是：\n",
    "$$\n",
    "\\frac{\\partial }{\\partial \\theta}J(\\theta ) = X^{T}(\\sigma(X\\theta) -y)\n",
    "$$\n",
    "梯度下降的公式：\n",
    "$$\n",
    "\\theta: =\\theta - \\alpha X^{T}(\\sigma(X\\theta)-\\mathbf{y} )\n",
    "$$"
   ]
  },
  {
   "cell_type": "code",
   "execution_count": 9,
   "metadata": {},
   "outputs": [],
   "source": [
    "def logistic_gradient_descent(x, y, learning_rate, iter_times):\n",
    "    \"\"\"\n",
    "    x's shape: (num_samples, dimension)\n",
    "    y's shape: (num_samples, 1)\n",
    "    参数theta初始化为0\n",
    "    返回经过iter_times轮学习率为learning_rate的梯度下降后的参数theta\n",
    "    \"\"\"\n",
    "    dim = x.shape[1]\n",
    "    theta = np.zeros((dim, 1))\n",
    "    for i in range(iter_times):\n",
    "        gradient = np.dot(x.transpose(), sigmoid(np.dot(x, theta)) - y)\n",
    "        theta -= learning_rate * gradient\n",
    "    return theta"
   ]
  },
  {
   "cell_type": "markdown",
   "metadata": {},
   "source": [
    "# 4.regularization"
   ]
  },
  {
   "cell_type": "markdown",
   "metadata": {},
   "source": [
    "为了避免参数绝对值过大，可为逻辑回归加上正则，即在目标函数上加上惩罚函数\n",
    "\n",
    "l2正则：\n",
    "$$J(\\theta) += \\lambda \\left \\| \\theta \\right \\|_{2} $$\n",
    "\n",
    "l1正则：\n",
    "$$J(\\theta) += \\lambda \\left \\| \\theta \\right \\|_{1} $$\n",
    "\n",
    "相应的梯度下降公式也会改变"
   ]
  },
  {
   "cell_type": "markdown",
   "metadata": {},
   "source": [
    "# 5.softmax"
   ]
  },
  {
   "cell_type": "markdown",
   "metadata": {},
   "source": [
    "对于多分类问题，我们需要预测一个概率分布$(p_{1}, ...,p_{k})$"
   ]
  },
  {
   "cell_type": "code",
   "execution_count": null,
   "metadata": {},
   "outputs": [],
   "source": []
  }
 ],
 "metadata": {
  "kernelspec": {
   "display_name": "Python 3",
   "language": "python",
   "name": "python3"
  },
  "language_info": {
   "codemirror_mode": {
    "name": "ipython",
    "version": 3
   },
   "file_extension": ".py",
   "mimetype": "text/x-python",
   "name": "python",
   "nbconvert_exporter": "python",
   "pygments_lexer": "ipython3",
   "version": "3.8.3"
  }
 },
 "nbformat": 4,
 "nbformat_minor": 4
}
